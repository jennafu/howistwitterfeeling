{
 "cells": [
  {
   "cell_type": "code",
   "execution_count": 1,
   "metadata": {},
   "outputs": [],
   "source": [
    "# Import relevant packages\n",
    "import pandas as pd\n",
    "import numpy as np\n",
    "import matplotlib.pyplot as plt\n",
    "\n",
    "import warnings\n",
    "warnings.filterwarnings('ignore')"
   ]
  },
  {
   "cell_type": "code",
   "execution_count": 2,
   "metadata": {},
   "outputs": [],
   "source": [
    "raw_train = pd.read_csv('data/training.1600000.processed.noemoticon.csv',\n",
    "                       encoding = \"ISO-8859-1\", engine='python',header=None,\n",
    "                      names=['sentiment','tweet_id','date','flag','user','text'])"
   ]
  },
  {
   "cell_type": "markdown",
   "metadata": {},
   "source": [
    "### Exploratory Data Analysis"
   ]
  },
  {
   "cell_type": "markdown",
   "metadata": {},
   "source": [
    "Find the shape of dataset:"
   ]
  },
  {
   "cell_type": "code",
   "execution_count": 3,
   "metadata": {},
   "outputs": [
    {
     "data": {
      "text/plain": [
       "(1600000, 6)"
      ]
     },
     "execution_count": 3,
     "metadata": {},
     "output_type": "execute_result"
    }
   ],
   "source": [
    "raw_train.shape"
   ]
  },
  {
   "cell_type": "markdown",
   "metadata": {},
   "source": [
    "#### Sentiment Column (Target)"
   ]
  },
  {
   "cell_type": "code",
   "execution_count": 4,
   "metadata": {},
   "outputs": [
    {
     "data": {
      "text/plain": [
       "4    800000\n",
       "0    800000\n",
       "Name: sentiment, dtype: int64"
      ]
     },
     "execution_count": 4,
     "metadata": {},
     "output_type": "execute_result"
    }
   ],
   "source": [
    "raw_train['sentiment'].value_counts()"
   ]
  },
  {
   "cell_type": "markdown",
   "metadata": {},
   "source": [
    "It appears that negative tweet is given a label of 0 and positive tweet is given a label of 4. For simplicity, I will convert the binary classification to [0,1]."
   ]
  },
  {
   "cell_type": "code",
   "execution_count": 5,
   "metadata": {},
   "outputs": [],
   "source": [
    "def convert_sent(x):\n",
    "    if x == 4:\n",
    "        return 1\n",
    "    else:\n",
    "        return 0"
   ]
  },
  {
   "cell_type": "code",
   "execution_count": 6,
   "metadata": {},
   "outputs": [],
   "source": [
    "raw_train['sentiment'] = raw_train['sentiment'].apply(convert_sent)"
   ]
  },
  {
   "cell_type": "code",
   "execution_count": 7,
   "metadata": {},
   "outputs": [
    {
     "data": {
      "text/plain": [
       "Text(0, 0.5, 'Frequency')"
      ]
     },
     "execution_count": 7,
     "metadata": {},
     "output_type": "execute_result"
    },
    {
     "data": {
      "image/png": "[encoded data removed]",
      "text/plain": [
       "<Figure size 432x288 with 1 Axes>"
      ]
     },
     "metadata": {
      "needs_background": "light"
     },
     "output_type": "display_data"
    }
   ],
   "source": [
    "# Plotting the distribution for dataset.\n",
    "ax = raw_train['sentiment'].value_counts().plot(kind='bar',\n",
    "                                    title=\"Count of Labelled Sentiments\")\n",
    "ax.set_xlabel(\"Sentiments\")\n",
    "ax.set_ylabel(\"Frequency\")"
   ]
  },
  {
   "cell_type": "markdown",
   "metadata": {},
   "source": [
    "#### Tweet ID Column (Unique Identifier)\n",
    "Hypothetically, the tweet id should be unique identifier of each tweet, so if we count the number of unique tweets, we should get back a value of 1600000."
   ]
  },
  {
   "cell_type": "code",
   "execution_count": 8,
   "metadata": {},
   "outputs": [
    {
     "data": {
      "text/plain": [
       "1598315"
      ]
     },
     "execution_count": 8,
     "metadata": {},
     "output_type": "execute_result"
    }
   ],
   "source": [
    "len(raw_train['tweet_id'].unique())"
   ]
  },
  {
   "cell_type": "markdown",
   "metadata": {},
   "source": [
    "But appearly that is not the case... Perhaps there are duplicated rows in the dataset:"
   ]
  },
  {
   "cell_type": "code",
   "execution_count": 9,
   "metadata": {},
   "outputs": [],
   "source": [
    "id_count = raw_train['tweet_id'].value_counts()"
   ]
  },
  {
   "cell_type": "code",
   "execution_count": 10,
   "metadata": {},
   "outputs": [
    {
     "data": {
      "text/html": [
       "<div>\n",
       "<style scoped>\n",
       "    .dataframe tbody tr th:only-of-type {\n",
       "        vertical-align: middle;\n",
       "    }\n",
       "\n",
       "    .dataframe tbody tr th {\n",
       "        vertical-align: top;\n",
       "    }\n",
       "\n",
       "    .dataframe thead th {\n",
       "        text-align: right;\n",
       "    }\n",
       "</style>\n",
       "<table border=\"1\" class=\"dataframe\">\n",
       "  <thead>\n",
       "    <tr style=\"text-align: right;\">\n",
       "      <th></th>\n",
       "      <th>sentiment</th>\n",
       "      <th>tweet_id</th>\n",
       "      <th>date</th>\n",
       "      <th>flag</th>\n",
       "      <th>user</th>\n",
       "      <th>text</th>\n",
       "    </tr>\n",
       "  </thead>\n",
       "  <tbody>\n",
       "    <tr>\n",
       "      <th>84766</th>\n",
       "      <td>0</td>\n",
       "      <td>1753678185</td>\n",
       "      <td>Sun May 10 02:51:55 PDT 2009</td>\n",
       "      <td>NO_QUERY</td>\n",
       "      <td>BoydyxO</td>\n",
       "      <td>sunnn finnalllyyy!!  aint slept :| need some sleep</td>\n",
       "    </tr>\n",
       "    <tr>\n",
       "      <th>918539</th>\n",
       "      <td>1</td>\n",
       "      <td>1753678185</td>\n",
       "      <td>Sun May 10 02:51:55 PDT 2009</td>\n",
       "      <td>NO_QUERY</td>\n",
       "      <td>BoydyxO</td>\n",
       "      <td>sunnn finnalllyyy!!  aint slept :| need some sleep</td>\n",
       "    </tr>\n",
       "  </tbody>\n",
       "</table>\n",
       "</div>"
      ],
      "text/plain": [
       "        sentiment    tweet_id                          date      flag  \\\n",
       "84766           0  1753678185  Sun May 10 02:51:55 PDT 2009  NO_QUERY   \n",
       "918539          1  1753678185  Sun May 10 02:51:55 PDT 2009  NO_QUERY   \n",
       "\n",
       "           user                                                 text  \n",
       "84766   BoydyxO  sunnn finnalllyyy!!  aint slept :| need some sleep   \n",
       "918539  BoydyxO  sunnn finnalllyyy!!  aint slept :| need some sleep   "
      ]
     },
     "execution_count": 10,
     "metadata": {},
     "output_type": "execute_result"
    }
   ],
   "source": [
    "# Looking at one of these duplicated id 1753678185  \n",
    "pd.options.display.max_colwidth = 90\n",
    "raw_train[raw_train['tweet_id'] == 1753678185]"
   ]
  },
  {
   "cell_type": "code",
   "execution_count": 11,
   "metadata": {},
   "outputs": [
    {
     "data": {
      "text/html": [
       "<div>\n",
       "<style scoped>\n",
       "    .dataframe tbody tr th:only-of-type {\n",
       "        vertical-align: middle;\n",
       "    }\n",
       "\n",
       "    .dataframe tbody tr th {\n",
       "        vertical-align: top;\n",
       "    }\n",
       "\n",
       "    .dataframe thead th {\n",
       "        text-align: right;\n",
       "    }\n",
       "</style>\n",
       "<table border=\"1\" class=\"dataframe\">\n",
       "  <thead>\n",
       "    <tr style=\"text-align: right;\">\n",
       "      <th></th>\n",
       "      <th>sentiment</th>\n",
       "      <th>tweet_id</th>\n",
       "      <th>date</th>\n",
       "      <th>flag</th>\n",
       "      <th>user</th>\n",
       "      <th>text</th>\n",
       "    </tr>\n",
       "  </thead>\n",
       "  <tbody>\n",
       "    <tr>\n",
       "      <th>254974</th>\n",
       "      <td>0</td>\n",
       "      <td>1984377787</td>\n",
       "      <td>Sun May 31 14:59:31 PDT 2009</td>\n",
       "      <td>NO_QUERY</td>\n",
       "      <td>15AMR</td>\n",
       "      <td>I'm broke cuz she got all she wanted! Going hoe finally!   AMR</td>\n",
       "    </tr>\n",
       "    <tr>\n",
       "      <th>1194019</th>\n",
       "      <td>1</td>\n",
       "      <td>1984377787</td>\n",
       "      <td>Sun May 31 14:59:31 PDT 2009</td>\n",
       "      <td>NO_QUERY</td>\n",
       "      <td>15AMR</td>\n",
       "      <td>I'm broke cuz she got all she wanted! Going hoe finally!   AMR</td>\n",
       "    </tr>\n",
       "  </tbody>\n",
       "</table>\n",
       "</div>"
      ],
      "text/plain": [
       "         sentiment    tweet_id                          date      flag   user  \\\n",
       "254974           0  1984377787  Sun May 31 14:59:31 PDT 2009  NO_QUERY  15AMR   \n",
       "1194019          1  1984377787  Sun May 31 14:59:31 PDT 2009  NO_QUERY  15AMR   \n",
       "\n",
       "                                                                    text  \n",
       "254974   I'm broke cuz she got all she wanted! Going hoe finally!   AMR   \n",
       "1194019  I'm broke cuz she got all she wanted! Going hoe finally!   AMR   "
      ]
     },
     "execution_count": 11,
     "metadata": {},
     "output_type": "execute_result"
    }
   ],
   "source": [
    "# Another duplicated id 1984377787\n",
    "raw_train[raw_train['tweet_id'] == 1984377787]"
   ]
  },
  {
   "cell_type": "markdown",
   "metadata": {},
   "source": [
    "It appears they are indeed duplicate rows, with different lables of sentiments! These tweet contents seem to have a satiricial or ironic tones, making it difficult to label them positive or negative. For this project, I have decided to remove these rows from the dataset."
   ]
  },
  {
   "cell_type": "code",
   "execution_count": 12,
   "metadata": {},
   "outputs": [
    {
     "data": {
      "text/html": [
       "<div>\n",
       "<style scoped>\n",
       "    .dataframe tbody tr th:only-of-type {\n",
       "        vertical-align: middle;\n",
       "    }\n",
       "\n",
       "    .dataframe tbody tr th {\n",
       "        vertical-align: top;\n",
       "    }\n",
       "\n",
       "    .dataframe thead th {\n",
       "        text-align: right;\n",
       "    }\n",
       "</style>\n",
       "<table border=\"1\" class=\"dataframe\">\n",
       "  <thead>\n",
       "    <tr style=\"text-align: right;\">\n",
       "      <th></th>\n",
       "      <th>sentiment</th>\n",
       "      <th>tweet_id</th>\n",
       "      <th>date</th>\n",
       "      <th>flag</th>\n",
       "      <th>user</th>\n",
       "      <th>text</th>\n",
       "    </tr>\n",
       "  </thead>\n",
       "  <tbody>\n",
       "    <tr>\n",
       "      <th>0</th>\n",
       "      <td>0</td>\n",
       "      <td>1467810369</td>\n",
       "      <td>Mon Apr 06 22:19:45 PDT 2009</td>\n",
       "      <td>NO_QUERY</td>\n",
       "      <td>_TheSpecialOne_</td>\n",
       "      <td>@switchfoot http://twitpic.com/2y1zl - Awww, that's a bummer.  You shoulda got David C...</td>\n",
       "    </tr>\n",
       "    <tr>\n",
       "      <th>1</th>\n",
       "      <td>0</td>\n",
       "      <td>1467810672</td>\n",
       "      <td>Mon Apr 06 22:19:49 PDT 2009</td>\n",
       "      <td>NO_QUERY</td>\n",
       "      <td>scotthamilton</td>\n",
       "      <td>is upset that he can't update his Facebook by texting it... and might cry as a result ...</td>\n",
       "    </tr>\n",
       "    <tr>\n",
       "      <th>2</th>\n",
       "      <td>0</td>\n",
       "      <td>1467810917</td>\n",
       "      <td>Mon Apr 06 22:19:53 PDT 2009</td>\n",
       "      <td>NO_QUERY</td>\n",
       "      <td>mattycus</td>\n",
       "      <td>@Kenichan I dived many times for the ball. Managed to save 50%  The rest go out of bounds</td>\n",
       "    </tr>\n",
       "    <tr>\n",
       "      <th>3</th>\n",
       "      <td>0</td>\n",
       "      <td>1467811184</td>\n",
       "      <td>Mon Apr 06 22:19:57 PDT 2009</td>\n",
       "      <td>NO_QUERY</td>\n",
       "      <td>ElleCTF</td>\n",
       "      <td>my whole body feels itchy and like its on fire</td>\n",
       "    </tr>\n",
       "    <tr>\n",
       "      <th>4</th>\n",
       "      <td>0</td>\n",
       "      <td>1467811193</td>\n",
       "      <td>Mon Apr 06 22:19:57 PDT 2009</td>\n",
       "      <td>NO_QUERY</td>\n",
       "      <td>Karoli</td>\n",
       "      <td>@nationwideclass no, it's not behaving at all. i'm mad. why am i here? because I can't...</td>\n",
       "    </tr>\n",
       "  </tbody>\n",
       "</table>\n",
       "</div>"
      ],
      "text/plain": [
       "   sentiment    tweet_id                          date      flag  \\\n",
       "0          0  1467810369  Mon Apr 06 22:19:45 PDT 2009  NO_QUERY   \n",
       "1          0  1467810672  Mon Apr 06 22:19:49 PDT 2009  NO_QUERY   \n",
       "2          0  1467810917  Mon Apr 06 22:19:53 PDT 2009  NO_QUERY   \n",
       "3          0  1467811184  Mon Apr 06 22:19:57 PDT 2009  NO_QUERY   \n",
       "4          0  1467811193  Mon Apr 06 22:19:57 PDT 2009  NO_QUERY   \n",
       "\n",
       "              user  \\\n",
       "0  _TheSpecialOne_   \n",
       "1    scotthamilton   \n",
       "2         mattycus   \n",
       "3          ElleCTF   \n",
       "4           Karoli   \n",
       "\n",
       "                                                                                        text  \n",
       "0  @switchfoot http://twitpic.com/2y1zl - Awww, that's a bummer.  You shoulda got David C...  \n",
       "1  is upset that he can't update his Facebook by texting it... and might cry as a result ...  \n",
       "2  @Kenichan I dived many times for the ball. Managed to save 50%  The rest go out of bounds  \n",
       "3                                            my whole body feels itchy and like its on fire   \n",
       "4  @nationwideclass no, it's not behaving at all. i'm mad. why am i here? because I can't...  "
      ]
     },
     "execution_count": 12,
     "metadata": {},
     "output_type": "execute_result"
    }
   ],
   "source": [
    "# Find row indexes where the tweed id has exactly one entry\n",
    "id_count[id_count.values == 1].index\n",
    "train = raw_train[raw_train['tweet_id'].isin(id_count[id_count.values == 1].index)].reset_index(drop=True)\n",
    "train.head()"
   ]
  },
  {
   "cell_type": "code",
   "execution_count": 13,
   "metadata": {},
   "outputs": [
    {
     "data": {
      "text/plain": [
       "(1596630, 6)"
      ]
     },
     "execution_count": 13,
     "metadata": {},
     "output_type": "execute_result"
    }
   ],
   "source": [
    "# New shape\n",
    "train.shape"
   ]
  },
  {
   "cell_type": "markdown",
   "metadata": {},
   "source": [
    "#### Date Column"
   ]
  },
  {
   "cell_type": "code",
   "execution_count": 14,
   "metadata": {},
   "outputs": [
    {
     "data": {
      "text/plain": [
       "dtype('O')"
      ]
     },
     "execution_count": 14,
     "metadata": {},
     "output_type": "execute_result"
    }
   ],
   "source": [
    "train['date'].dtypes"
   ]
  },
  {
   "cell_type": "code",
   "execution_count": 15,
   "metadata": {},
   "outputs": [
    {
     "data": {
      "text/plain": [
       "PDT     1596630\n",
       "Name: date, dtype: int64"
      ]
     },
     "execution_count": 15,
     "metadata": {},
     "output_type": "execute_result"
    }
   ],
   "source": [
    "# Time Zone\n",
    "area_code = train['date'].str[20:24]\n",
    "area_code.value_counts()"
   ]
  },
  {
   "cell_type": "markdown",
   "metadata": {},
   "source": [
    "It appears all of the time zones are recorded in Pacific Time."
   ]
  },
  {
   "cell_type": "code",
   "execution_count": 16,
   "metadata": {},
   "outputs": [
    {
     "data": {
      "text/plain": [
       "2009    1596630\n",
       "Name: date, dtype: int64"
      ]
     },
     "execution_count": 16,
     "metadata": {},
     "output_type": "execute_result"
    }
   ],
   "source": [
    "# Year\n",
    "year = train['date'].str[24:29]\n",
    "year.value_counts()"
   ]
  },
  {
   "cell_type": "markdown",
   "metadata": {},
   "source": [
    "All of the tweets are from 2009."
   ]
  },
  {
   "cell_type": "code",
   "execution_count": 71,
   "metadata": {},
   "outputs": [
    {
     "name": "stdout",
     "output_type": "stream",
     "text": [
      "Average sentiments by Months\n",
      "date\n",
      "Apr    0.584239\n",
      "Jun    0.422159\n",
      "May    0.610217\n",
      "Name: sentiment, dtype: float64\n"
     ]
    },
    {
     "data": {
      "image/png": "[encoded data removed]",
      "text/plain": [
       "<Figure size 648x360 with 1 Axes>"
      ]
     },
     "metadata": {
      "needs_background": "light"
     },
     "output_type": "display_data"
    }
   ],
   "source": [
    "plt.figure(figsize=(9,5))\n",
    "# Number of Tweets per Month\n",
    "ax = train['date'].str[4:7].value_counts().plot(kind='bar',title=\"Number of Tweets by Month\")\n",
    "ax.set_xlabel(\"Months\")\n",
    "ax.set_ylabel(\"Frequency\")\n",
    "\n",
    "print(\"Average sentiments by Months\")\n",
    "print(train['sentiment'].groupby(train['date'].str[4:7]).mean())"
   ]
  },
  {
   "cell_type": "code",
   "execution_count": 66,
   "metadata": {},
   "outputs": [
    {
     "data": {
      "text/plain": [
       "Text(0, 0.5, 'Average Sentiment')"
      ]
     },
     "execution_count": 66,
     "metadata": {},
     "output_type": "execute_result"
    },
    {
     "data": {
      "image/png": "[encoded data removed]",
      "text/plain": [
       "<Figure size 648x648 with 2 Axes>"
      ]
     },
     "metadata": {
      "needs_background": "light"
     },
     "output_type": "display_data"
    }
   ],
   "source": [
    "plt.subplots(2,1,sharex='col',figsize=(9,9))\n",
    "# Number of Tweets per Days\n",
    "plt.subplot(2,1,1)\n",
    "ax = train['date'].str[8:10].astype(int).value_counts(sort=False).plot(kind='bar',title=f\"Number of Tweets by Date\")\n",
    "ax.set_xlabel(\"Date\")\n",
    "ax.set_ylabel(\"Frequency\")\n",
    "\n",
    "plt.subplot(2,1,2)\n",
    "# Average Sentiments per Day\n",
    "ax = train['sentiment'].groupby(train['date'].str[8:10]).mean().plot(kind='bar',title=f\"Average Sentiments by Dates\")\n",
    "ax.set_xlabel(\"Date\")\n",
    "ax.set_ylabel(\"Average Sentiment\")"
   ]
  },
  {
   "cell_type": "code",
   "execution_count": 72,
   "metadata": {},
   "outputs": [
    {
     "data": {
      "text/plain": [
       "Text(0, 0.5, 'Average Sentiment')"
      ]
     },
     "execution_count": 72,
     "metadata": {},
     "output_type": "execute_result"
    },
    {
     "data": {
      "image/png": "[encoded data removed]",
      "text/plain": [
       "<Figure size 648x648 with 2 Axes>"
      ]
     },
     "metadata": {
      "needs_background": "light"
     },
     "output_type": "display_data"
    }
   ],
   "source": [
    "plt.subplots(2,1,sharex='col',figsize=(9,9))\n",
    "# Number of Tweets per Hours\n",
    "plt.subplot(2,1,1)\n",
    "ax = train['date'].str[11:13].astype(int).value_counts(sort=False).plot(kind='bar',title=f\"Number of Tweets by Hours\")\n",
    "ax.set_xlabel(\"Hours\")\n",
    "ax.set_ylabel(\"Frequency\")\n",
    "\n",
    "plt.subplot(2,1,2)\n",
    "# Average Sentiments per Hour\n",
    "ax = train['sentiment'].groupby(train['date'].str[11:13]).mean().plot(kind='bar',title=f\"Average Sentiments by Hours\")\n",
    "ax.set_xlabel(\"Hours\")\n",
    "ax.set_ylabel(\"Average Sentiment\")"
   ]
  },
  {
   "cell_type": "code",
   "execution_count": 75,
   "metadata": {},
   "outputs": [
    {
     "data": {
      "text/plain": [
       "Text(0, 0.5, 'Average Sentiment')"
      ]
     },
     "execution_count": 75,
     "metadata": {},
     "output_type": "execute_result"
    },
    {
     "data": {
      "image/png": "[encoded data removed]",
      "text/plain": [
       "<Figure size 648x648 with 2 Axes>"
      ]
     },
     "metadata": {
      "needs_background": "light"
     },
     "output_type": "display_data"
    }
   ],
   "source": [
    "plt.subplots(2,1,sharex='col',figsize=(9,9))\n",
    "# Number of Tweets per Weekday\n",
    "plt.subplot(2,1,1)\n",
    "ax = train['date'].str[0:4].value_counts().plot(kind='bar',title=f\"Number of Tweets by Weekdays\")\n",
    "ax.set_xlabel(\"Weekdays\")\n",
    "ax.set_ylabel(\"Frequency\")\n",
    "\n",
    "plt.subplot(2,1,2)\n",
    "# Average Sentiments per Day\n",
    "ax = train['sentiment'].groupby(train['date'].str[0:4]).mean().plot(kind='bar',title=f\"Average Sentiments by Weekday\")\n",
    "ax.set_xlabel(\"Weekdays\")\n",
    "ax.set_ylabel(\"Average Sentiment\")"
   ]
  },
  {
   "cell_type": "markdown",
   "metadata": {},
   "source": [
    "It appears that dates and weekdays may contribute to the Twitter sentiments in this specific dataset. However, considering the short span of period (3 months) the dataset covers, this difference captured may not be the best reflection in the actual relationship between date-time variables and sentiments. Hence, I will not include them into the model features."
   ]
  },
  {
   "cell_type": "code",
   "execution_count": 87,
   "metadata": {},
   "outputs": [],
   "source": [
    "train = train.drop(['date'],axis=1)"
   ]
  },
  {
   "cell_type": "markdown",
   "metadata": {},
   "source": [
    "#### Flag Column"
   ]
  },
  {
   "cell_type": "code",
   "execution_count": 76,
   "metadata": {},
   "outputs": [
    {
     "data": {
      "text/plain": [
       "NO_QUERY    1596630\n",
       "Name: flag, dtype: int64"
      ]
     },
     "execution_count": 76,
     "metadata": {},
     "output_type": "execute_result"
    }
   ],
   "source": [
    "train['flag'].value_counts()"
   ]
  },
  {
   "cell_type": "markdown",
   "metadata": {},
   "source": [
    "It appears all of the rows contain the value of `NO_QUERY`, hence this column would not bring any information to our model, hence I will be removing it."
   ]
  },
  {
   "cell_type": "code",
   "execution_count": 84,
   "metadata": {},
   "outputs": [],
   "source": [
    "train = train.drop(['flag'],axis=1)"
   ]
  },
  {
   "cell_type": "code",
   "execution_count": 88,
   "metadata": {},
   "outputs": [
    {
     "data": {
      "text/plain": [
       "(1596630, 4)"
      ]
     },
     "execution_count": 88,
     "metadata": {},
     "output_type": "execute_result"
    }
   ],
   "source": [
    "train.shape"
   ]
  },
  {
   "cell_type": "markdown",
   "metadata": {},
   "source": [
    "#### User Column"
   ]
  },
  {
   "cell_type": "code",
   "execution_count": 89,
   "metadata": {},
   "outputs": [
    {
     "data": {
      "text/plain": [
       "lost_dog           549\n",
       "webwoke            345\n",
       "tweetpet           310\n",
       "SallytheShizzle    281\n",
       "VioletsCRUK        279\n",
       "                  ... \n",
       "xAkademiks           1\n",
       "nickjantz            1\n",
       "AerielleG            1\n",
       "leightreed           1\n",
       "XXXAimee             1\n",
       "Name: user, Length: 659502, dtype: int64"
      ]
     },
     "execution_count": 89,
     "metadata": {},
     "output_type": "execute_result"
    }
   ],
   "source": [
    "train['user'].value_counts()"
   ]
  },
  {
   "cell_type": "markdown",
   "metadata": {},
   "source": [
    "We have 659,775 unique users in this dataset from 2009."
   ]
  },
  {
   "cell_type": "markdown",
   "metadata": {},
   "source": [
    "#### Text Column"
   ]
  },
  {
   "cell_type": "code",
   "execution_count": 98,
   "metadata": {},
   "outputs": [
    {
     "data": {
      "text/plain": [
       "@ddlovato AJ RAFAEL (AWESOME MUSICIAN, FAMOUS ON YOUTUBE) COVERED YOUR SONG, DON'T FORGET. PLEASE WATCH IT  IT'S GOOD! http://bit.ly/vFWAs    19\n",
       "rain rain go away                                                                                                                             19\n",
       "my feet hurt                                                                                                                                  19\n",
       "So bored                                                                                                                                      19\n",
       "Its raining                                                                                                                                   19\n",
       "Name: text, dtype: int64"
      ]
     },
     "execution_count": 98,
     "metadata": {},
     "output_type": "execute_result"
    }
   ],
   "source": [
    "train['text'].value_counts().head()"
   ]
  },
  {
   "cell_type": "markdown",
   "metadata": {},
   "source": [
    "Some rows seem to contain very specific contents, which made me suspect there might be more duplicated rows in the dataset. For instance, looking at the more repeated `isPlayer Has Died! Sorry ` text:"
   ]
  },
  {
   "cell_type": "code",
   "execution_count": 91,
   "metadata": {},
   "outputs": [
    {
     "data": {
      "text/html": [
       "<div>\n",
       "<style scoped>\n",
       "    .dataframe tbody tr th:only-of-type {\n",
       "        vertical-align: middle;\n",
       "    }\n",
       "\n",
       "    .dataframe tbody tr th {\n",
       "        vertical-align: top;\n",
       "    }\n",
       "\n",
       "    .dataframe thead th {\n",
       "        text-align: right;\n",
       "    }\n",
       "</style>\n",
       "<table border=\"1\" class=\"dataframe\">\n",
       "  <thead>\n",
       "    <tr style=\"text-align: right;\">\n",
       "      <th></th>\n",
       "      <th>sentiment</th>\n",
       "      <th>tweet_id</th>\n",
       "      <th>user</th>\n",
       "      <th>text</th>\n",
       "    </tr>\n",
       "  </thead>\n",
       "  <tbody>\n",
       "    <tr>\n",
       "      <th>99668</th>\n",
       "      <td>0</td>\n",
       "      <td>1793803394</td>\n",
       "      <td>wowlew</td>\n",
       "      <td>isPlayer Has Died! Sorry</td>\n",
       "    </tr>\n",
       "    <tr>\n",
       "      <th>99854</th>\n",
       "      <td>0</td>\n",
       "      <td>1793875823</td>\n",
       "      <td>wowlew</td>\n",
       "      <td>isPlayer Has Died! Sorry</td>\n",
       "    </tr>\n",
       "    <tr>\n",
       "      <th>99899</th>\n",
       "      <td>0</td>\n",
       "      <td>1793898439</td>\n",
       "      <td>wowlew</td>\n",
       "      <td>isPlayer Has Died! Sorry</td>\n",
       "    </tr>\n",
       "    <tr>\n",
       "      <th>99954</th>\n",
       "      <td>0</td>\n",
       "      <td>1793923840</td>\n",
       "      <td>wowlew</td>\n",
       "      <td>isPlayer Has Died! Sorry</td>\n",
       "    </tr>\n",
       "    <tr>\n",
       "      <th>101708</th>\n",
       "      <td>0</td>\n",
       "      <td>1794742412</td>\n",
       "      <td>wowlew</td>\n",
       "      <td>isPlayer Has Died! Sorry</td>\n",
       "    </tr>\n",
       "    <tr>\n",
       "      <th>...</th>\n",
       "      <td>...</td>\n",
       "      <td>...</td>\n",
       "      <td>...</td>\n",
       "      <td>...</td>\n",
       "    </tr>\n",
       "    <tr>\n",
       "      <th>352364</th>\n",
       "      <td>0</td>\n",
       "      <td>2032530352</td>\n",
       "      <td>wowlew</td>\n",
       "      <td>isPlayer Has Died! Sorry</td>\n",
       "    </tr>\n",
       "    <tr>\n",
       "      <th>359757</th>\n",
       "      <td>0</td>\n",
       "      <td>2046605443</td>\n",
       "      <td>wowlew</td>\n",
       "      <td>isPlayer Has Died! Sorry</td>\n",
       "    </tr>\n",
       "    <tr>\n",
       "      <th>360007</th>\n",
       "      <td>0</td>\n",
       "      <td>2046776094</td>\n",
       "      <td>wowlew</td>\n",
       "      <td>isPlayer Has Died! Sorry</td>\n",
       "    </tr>\n",
       "    <tr>\n",
       "      <th>360116</th>\n",
       "      <td>0</td>\n",
       "      <td>2046807093</td>\n",
       "      <td>wowlew</td>\n",
       "      <td>isPlayer Has Died! Sorry</td>\n",
       "    </tr>\n",
       "    <tr>\n",
       "      <th>360626</th>\n",
       "      <td>0</td>\n",
       "      <td>2047060966</td>\n",
       "      <td>wowlew</td>\n",
       "      <td>isPlayer Has Died! Sorry</td>\n",
       "    </tr>\n",
       "  </tbody>\n",
       "</table>\n",
       "<p>210 rows × 4 columns</p>\n",
       "</div>"
      ],
      "text/plain": [
       "        sentiment    tweet_id    user                       text\n",
       "99668           0  1793803394  wowlew  isPlayer Has Died! Sorry \n",
       "99854           0  1793875823  wowlew  isPlayer Has Died! Sorry \n",
       "99899           0  1793898439  wowlew  isPlayer Has Died! Sorry \n",
       "99954           0  1793923840  wowlew  isPlayer Has Died! Sorry \n",
       "101708          0  1794742412  wowlew  isPlayer Has Died! Sorry \n",
       "...           ...         ...     ...                        ...\n",
       "352364          0  2032530352  wowlew  isPlayer Has Died! Sorry \n",
       "359757          0  2046605443  wowlew  isPlayer Has Died! Sorry \n",
       "360007          0  2046776094  wowlew  isPlayer Has Died! Sorry \n",
       "360116          0  2046807093  wowlew  isPlayer Has Died! Sorry \n",
       "360626          0  2047060966  wowlew  isPlayer Has Died! Sorry \n",
       "\n",
       "[210 rows x 4 columns]"
      ]
     },
     "execution_count": 91,
     "metadata": {},
     "output_type": "execute_result"
    }
   ],
   "source": [
    "train[train['text'].str.contains('isPlayer Has Died! Sorry')]"
   ]
  },
  {
   "cell_type": "markdown",
   "metadata": {},
   "source": [
    "All of these tweets come from the same user `wowlew`, who posted the same tweets multiple times daily from May 14 to June 4. This made me suspect that perhaps these tweets are computer generated contents that was reposted to the user's Twitter from games. Hence, I will be removing these rows from the dataset. This also made me suspect that there are more computer generated contents as such, and the easiest way to identify them, is the numebr of repetition. Hence, I will be removing texts appearing more than 20 times in the dataset:"
   ]
  },
  {
   "cell_type": "code",
   "execution_count": 96,
   "metadata": {},
   "outputs": [
    {
     "data": {
      "text/plain": [
       "(1592831, 4)"
      ]
     },
     "execution_count": 96,
     "metadata": {},
     "output_type": "execute_result"
    }
   ],
   "source": [
    "train = train[train.groupby('text')['text'].transform('count') < 20].reset_index(drop=True)\n",
    "train.shape"
   ]
  },
  {
   "cell_type": "code",
   "execution_count": 103,
   "metadata": {},
   "outputs": [
    {
     "data": {
      "text/plain": [
       "Text(0, 0.5, 'Average Sentiment')"
      ]
     },
     "execution_count": 103,
     "metadata": {},
     "output_type": "execute_result"
    },
    {
     "data": {
      "image/png": "[encoded data removed]",
      "text/plain": [
       "<Figure size 432x288 with 1 Axes>"
      ]
     },
     "metadata": {
      "needs_background": "light"
     },
     "output_type": "display_data"
    }
   ],
   "source": [
    "# Relationship between sentiments and URLs\n",
    "ax = train['sentiment'].groupby(train['text'].str.contains('http://')).mean().plot(kind='bar',title=f\"Average Sentiments by Presence of URLs\")\n",
    "ax.set_xlabel(\"Presence of URLs\")\n",
    "ax.set_ylabel(\"Average Sentiment\")"
   ]
  },
  {
   "cell_type": "code",
   "execution_count": 104,
   "metadata": {
    "scrolled": true
   },
   "outputs": [
    {
     "data": {
      "text/plain": [
       "Text(0, 0.5, 'Average Sentiment')"
      ]
     },
     "execution_count": 104,
     "metadata": {},
     "output_type": "execute_result"
    },
    {
     "data": {
      "image/png": "[encoded data removed]",
      "text/plain": [
       "<Figure size 432x288 with 1 Axes>"
      ]
     },
     "metadata": {
      "needs_background": "light"
     },
     "output_type": "display_data"
    }
   ],
   "source": [
    "# Relationship between sentiments and Hashtags\n",
    "ax = train['sentiment'].groupby(train['text'].str.contains('#')).mean().plot(kind='bar',title=f\"Average Sentiments by Presence of Hashtags\")\n",
    "ax.set_xlabel(\"Presence of Hastags\")\n",
    "ax.set_ylabel(\"Average Sentiment\")"
   ]
  },
  {
   "cell_type": "code",
   "execution_count": 105,
   "metadata": {},
   "outputs": [
    {
     "data": {
      "text/plain": [
       "Text(0, 0.5, 'Average Sentiment')"
      ]
     },
     "execution_count": 105,
     "metadata": {},
     "output_type": "execute_result"
    },
    {
     "data": {
      "image/png": "[encoded data removed]",
      "text/plain": [
       "<Figure size 432x288 with 1 Axes>"
      ]
     },
     "metadata": {
      "needs_background": "light"
     },
     "output_type": "display_data"
    }
   ],
   "source": [
    "# Find text columns with urls\n",
    "ax = train['sentiment'].groupby(train['text'].str.contains('@')).mean().plot(kind='bar',title=f\"Average Sentiments by Presence of Mentions\")\n",
    "ax.set_xlabel(\"Presence of Mentions\")\n",
    "ax.set_ylabel(\"Average Sentiment\")"
   ]
  },
  {
   "cell_type": "code",
   "execution_count": 106,
   "metadata": {},
   "outputs": [
    {
     "data": {
      "text/plain": [
       "(1592831, 4)"
      ]
     },
     "execution_count": 106,
     "metadata": {},
     "output_type": "execute_result"
    }
   ],
   "source": [
    "# Final train dataset shape\n",
    "train.shape"
   ]
  },
  {
   "cell_type": "code",
   "execution_count": null,
   "metadata": {},
   "outputs": [],
   "source": []
  }
 ],
 "metadata": {
  "kernelspec": {
   "display_name": "twitter",
   "language": "python",
   "name": "twitter"
  },
  "language_info": {
   "codemirror_mode": {
    "name": "ipython",
    "version": 3
   },
   "file_extension": ".py",
   "mimetype": "text/x-python",
   "name": "python",
   "nbconvert_exporter": "python",
   "pygments_lexer": "ipython3",
   "version": "3.7.6"
  }
 },
 "nbformat": 4,
 "nbformat_minor": 4
}
